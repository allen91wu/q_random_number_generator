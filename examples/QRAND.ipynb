{
 "cells": [
  {
   "cell_type": "code",
   "execution_count": null,
   "metadata": {},
   "outputs": [],
   "source": [
    "!pip install qiskit\n",
    "\n",
    "!pip install -U q_random_number_generator"
   ]
  },
  {
   "cell_type": "code",
   "execution_count": 2,
   "metadata": {},
   "outputs": [],
   "source": [
    "import q_random_number_generator as qrand\n"
   ]
  },
  {
   "cell_type": "code",
   "execution_count": 17,
   "metadata": {},
   "outputs": [
    {
     "name": "stdout",
     "output_type": "stream",
     "text": [
      "[4, -2, 4, 5, -2, 0, -1, 3, -5, -4, 1, 2, 4, -3, 0, 1, -2, 2, -1, 4, 0, -3, 1, 0, -4, 4, -2, -3, 1, 2, -2, 3, 5, -5, 4, 2, 0, 4, 0, 1, -4, 3, -5, -2, 5, -3, 0, 5, 0, 5, 2, 2, -1, -2, 3, -2, -2, -3, -4, 2, -5, -1, 0, -2, 5, -2, -5, 5, 0, 4, -4, 1, -3, 4, -4, 1, 4, 0, 1, 4, -5, -2, -2, 4, 1, -4, 5, 3, 4, 0, 3, 4, 2, 2, -2, -5, 2, -3, 0, -5]\n"
     ]
    }
   ],
   "source": [
    "quantum = qrand.randint(-5, 5, 100)\n",
    "print(quantum)\n"
   ]
  },
  {
   "cell_type": "code",
   "execution_count": 19,
   "metadata": {},
   "outputs": [
    {
     "data": {
      "image/png": "[encoded data removed]",
      "text/plain": [
       "<Figure size 640x480 with 1 Axes>"
      ]
     },
     "metadata": {},
     "output_type": "display_data"
    }
   ],
   "source": [
    "import matplotlib.pyplot as plt\n",
    "\n",
    "plt.hist(quantum, bins=10)\n",
    "plt.show()\n"
   ]
  }
 ],
 "metadata": {
  "kernelspec": {
   "display_name": "Python 3",
   "language": "python",
   "name": "python3"
  },
  "language_info": {
   "codemirror_mode": {
    "name": "ipython",
    "version": 3
   },
   "file_extension": ".py",
   "mimetype": "text/x-python",
   "name": "python",
   "nbconvert_exporter": "python",
   "pygments_lexer": "ipython3",
   "version": "3.11.1"
  },
  "orig_nbformat": 4
 },
 "nbformat": 4,
 "nbformat_minor": 2
}
